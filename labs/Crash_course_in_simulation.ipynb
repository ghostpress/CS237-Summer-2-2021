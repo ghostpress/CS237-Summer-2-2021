{
 "cells": [
  {
   "cell_type": "code",
   "execution_count": 1,
   "metadata": {},
   "outputs": [],
   "source": [
    "# @Author: Kai Bernardini\n",
    "# CS237: Spring 2018, extra resources \n",
    "\n",
    "import numpy as np\n",
    "from numpy.random import randint"
   ]
  },
  {
   "cell_type": "code",
   "execution_count": 2,
   "metadata": {},
   "outputs": [
    {
     "data": {
      "text/plain": [
       "array([5, 4, 6, 5, 1, 4, 2, 6, 2, 6])"
      ]
     },
     "execution_count": 2,
     "metadata": {},
     "output_type": "execute_result"
    }
   ],
   "source": [
    "n = 10\n",
    "t = randint(1,7,(n)) \n",
    "t"
   ]
  },
  {
   "cell_type": "code",
   "execution_count": 3,
   "metadata": {},
   "outputs": [],
   "source": [
    "def trial(n=10):\n",
    "    assert n %2 ==0\n",
    "    t = randint(1,7,(n))\n",
    "    # checks if it is even or not\n",
    "    outcomes = t % 2 ==0\n",
    "    # check to see if the number of evens = number of oods \n",
    "    return sum(outcomes) == n/2"
   ]
  },
  {
   "cell_type": "code",
   "execution_count": 4,
   "metadata": {},
   "outputs": [
    {
     "data": {
      "text/plain": [
       "2522"
      ]
     },
     "execution_count": 4,
     "metadata": {},
     "output_type": "execute_result"
    }
   ],
   "source": [
    "c = 0\n",
    "N = 10000\n",
    "for i in range(N):\n",
    "    c += trial()\n",
    "c"
   ]
  },
  {
   "cell_type": "code",
   "execution_count": 5,
   "metadata": {},
   "outputs": [
    {
     "data": {
      "text/plain": [
       "0.2522"
      ]
     },
     "execution_count": 5,
     "metadata": {},
     "output_type": "execute_result"
    }
   ],
   "source": [
    "c/N"
   ]
  },
  {
   "cell_type": "code",
   "execution_count": 6,
   "metadata": {},
   "outputs": [
    {
     "data": {
      "text/plain": [
       "array([ True,  True, False,  True,  True,  True, False, False,  True,\n",
       "       False])"
      ]
     },
     "execution_count": 6,
     "metadata": {},
     "output_type": "execute_result"
    }
   ],
   "source": [
    "t = randint(1,7,(10))\n",
    "outcomes = t % 2 ==0\n",
    "outcomes"
   ]
  },
  {
   "cell_type": "code",
   "execution_count": 7,
   "metadata": {},
   "outputs": [],
   "source": [
    "# simulates 1 trial of at least 2 consecutive Even numnbers \n",
    "\n",
    "def trial(n=10):\n",
    "    # counting the number of consecutive evens \n",
    "    flag = 0 \n",
    "    for i in outcomes:\n",
    "        if i == True:\n",
    "            # we saw even \n",
    "            flag +=1\n",
    "        else:\n",
    "            # we saw an ood \n",
    "            flag =0\n",
    "        if flag >= 3:\n",
    "            return True \n",
    "    return False \n"
   ]
  },
  {
   "cell_type": "markdown",
   "metadata": {},
   "source": [
    "## General Idea\n",
    "This notebook will briefly introduce Simulation.\n",
    "\n",
    "We will begin this discussion with a simple example. Suppose we flip two  **fair coins** and are interested in the number of heads we observe. Let $H$ be a heads and $T$ be a tails. Lets say we want to know the probability that exactly one of the coins comes up heads.  Then the sample space for flipping two fair coins is  $$\\Omega = \\{(H,H), (H,T), (T,H), (T,T) \\}$$ Then this event is $A\\subset \\Omega$, $A=\\{(T,H),(H,T)\\}$ and we can compute $$Pr(A) = \\frac{|A|}{|\\Omega|} = \\frac{2}{4}= \\frac{1}{2}$$ \n",
    "\n",
    "## Example 1: Counting Heads\n",
    "For simple processes like the one described above, it is trivial to compute the probability of events, since we can easily write it down explicitly. However, this strategy would become significantly more difficult if we flipped 10 fair coins, or 100, or 1000. If we tried to enumerate all possible strings composed of $H,T$, we would very quickly run out of space in the observable universe. So, lets try simulating the solution for the example above, and see if we can generalize it to an arbitrary finite number of coins. \n",
    "\n",
    "\n",
    "In general, there are 2 things we need in order to carry out a  Simulation with the goal of estimating $Pr(A)$:\n",
    "- 1) A way to simulate drawing elements from $\\Omega$ randomly (an easily repeatable random process). We will in general call this function the _trial function_ as it simulates 1 trial of the random experiment. \n",
    "- 2) A way to check if a randomly generated element is in $A$ (an indicator function). \n",
    "\n",
    "The basic idea is to perform $N$ trials  of random draws from $\\Omega$, and compute the proportion of times $A$ occurs to the total number of trials. I.E., we will estimate $$Pr(A) \\approx \\frac{\\#\\text{times A occurs} }{\\#\\text{of trials}}$$\n",
    "\n",
    "To make this idea more concrete, lets introduce some notation.  Lets give a name to each of the trials: let $T_1,\\ldots , T_N$ be the outcomes of $N$ trials, where $T_i$ is independent of $T_j$ for $i\\neq j$.   In order to count the number of outcomes that have exactly 1 head, we define a function called _the indicator function_. We will write this in general as $$\\mathbb{1}_{A}(x) = \\begin{cases}1 & \\text{ if } x \\in A \\\\ 0 & \\text{ if } x \\not\\in A  \\end{cases}$$\n",
    "\n",
    "In English, the indicator function for this problem will take an outcome $T_i$ and return 1 if for trial $i$, we observed exactly 1 head and 0 otherwise. In this way, we can approximate $Pr(A)$ with $$Pr(A) \\approx \\frac{1}{N} \\sum_{i=1}^N \\mathbb{1}_{A}(T_i)$$\n",
    "Remember, all this expression means in English is \"the proportion of outcomes with exactly 1 heads to total trials.\"\n"
   ]
  },
  {
   "cell_type": "markdown",
   "metadata": {},
   "source": [
    "# Real World Concerns\n",
    "\n",
    "\n",
    "Lets go back to the requirements for simulation. \n",
    "\n",
    "\n",
    "- The first requirement tends to be difficult for some physical applications.\n",
    "    - For example, if you wanted to estimate the probability of $A$, it would be very tedious to actually flip a two coins thousands of times. Thus, we relax this requirement to allow for sources of pseudo-randomness (i.e., we can use numpy's `randint` function). \n",
    "    \n",
    "- Since we know that $Pr(A) = \\frac{|A|}{|\\Omega|}$, we simply make use of the fact that the probability of $A$ in the finite case is exactly the percentage of $\\Omega$ that $A$ makes up. We now introduce some python code to simulate the event described above.\n"
   ]
  },
  {
   "cell_type": "code",
   "execution_count": 8,
   "metadata": {},
   "outputs": [
    {
     "data": {
      "text/plain": [
       "0.4945"
      ]
     },
     "execution_count": 8,
     "metadata": {},
     "output_type": "execute_result"
    }
   ],
   "source": [
    "# The trial function \n",
    "def coin_trial():\n",
    "    \"\"\"Simulates the fliping a fair coin. We will use the number 0 to denote Tails and 1 to denote Heads.\n",
    "    0  <--> Tails\n",
    "    1  <--> Heads \n",
    "    This function simulates the random process of flipping two fair coins\n",
    "    \"\"\"\n",
    "    return randint(0,2,(2))\n",
    "    \n",
    "# The indicator function  \n",
    "def indicator_function_heads(coin_outcome):\n",
    "    # Check if there is exactly 1  head in the string\n",
    "    # This amounts to adding across the coin outcomes\n",
    "    # If there were no heads, we would see (0,0) and the sum would be 0\n",
    "    # If there were 2 heads, we would observer (1,1) and the sum would be 2\n",
    "    # If we get exactly 1 heads, that would be (0,1) or (1,0) and would some to 1\n",
    "    return sum(coin_outcome) == 1\n",
    "\n",
    "# Average over multiple trials \n",
    "def estimate_Pr_A(N):\n",
    "    # Count the number of times we observe a Heads\n",
    "    c = 0\n",
    "    for i in range(N):\n",
    "        # flip 2 fair coins\n",
    "        coin_i = coin_trial()\n",
    "        # test if there is exactly 1 coin in the outcomes\n",
    "        c += indicator_function_heads(coin_i)\n",
    "    # return proportion of trials that had exactly 1 heads to those that don't \n",
    "    return c / N\n",
    "\n",
    "# Should be close to 1/2\n",
    "estimate_Pr_A(10000)"
   ]
  },
  {
   "cell_type": "code",
   "execution_count": 9,
   "metadata": {},
   "outputs": [
    {
     "data": {
      "text/plain": [
       "0.5008"
      ]
     },
     "execution_count": 9,
     "metadata": {},
     "output_type": "execute_result"
    }
   ],
   "source": [
    "# Simulate using Numpy\n",
    "# A compact and efficient way\n",
    "def numpy_simulate(N):\n",
    "    # simulate flipping a coin N times \n",
    "    # This builds a numpy array of random pairs of 0/1s of size N\n",
    "    coin_outcomes  = randint(0,2,(2, N))\n",
    "    # Since tails is 0 and heads is 1, we can just add up the ones/zeros\n",
    "    # This counds the number of heads \n",
    "    # sum across different trials \n",
    "    num_heads = np.sum(coin_outcomes , axis =0)\n",
    "    # Averaging over 1s and zerso computes #1s/#trials\n",
    "    return   np.mean( num_heads == 1)\n",
    "\n",
    "numpy_simulate(10000)"
   ]
  },
  {
   "cell_type": "markdown",
   "metadata": {},
   "source": [
    "# Example 2: Simulation for rolling a fair die. \n",
    "Suppose we roll a fair 6 sided die. Then $\\Omega  = \\{1,2,3,4,5,6\\}$. Suppose we want to find the probability of rolling an even number which is the event $A = \\{2,4,6\\}$. We know _a priori_ that this is exactly 1/2 as $$Pr(A) = \\frac{|A|}{|\\Omega|} = \\frac{3}{6} = .5$$\n",
    "\n",
    "Just for demonstrative purposes though, lets go through and simulate this probability. As before, we need a way to simulate rolling a fair die. \n",
    "- To accomplish this, we can use randint on 6 integers. Next, we need a way to test if an element is in $A$. In this case, we can use the trick that if $x\\in \\Omega$, and  $x \\equiv 0 \\text{ mod }2$ then this means $x$ is even and therefore $x\\in A$.  Lets put this all together..."
   ]
  },
  {
   "cell_type": "code",
   "execution_count": 10,
   "metadata": {},
   "outputs": [
    {
     "data": {
      "text/plain": [
       "array([0.5])"
      ]
     },
     "execution_count": 10,
     "metadata": {},
     "output_type": "execute_result"
    }
   ],
   "source": [
    "def simulate_even_die_outcome(N):\n",
    "    # Count the number of even outcomes\n",
    "    # Initialize to zero as we have seen no outcomes yet\n",
    "    c = 0\n",
    "    for i in range(N):\n",
    "        # remember,  just as in the range() function, the last index is not included \n",
    "        # Simulates a uniform draw on {1,2,3,4,5,6}\n",
    "        # This is the trial function\n",
    "        die_outcome = randint(1,7,(1))\n",
    "        # Boolean expression: if the outcome is congruent to zero mod 2, c will be updated by 1\n",
    "        # This is precisesly the indicator function\n",
    "        c += (die_outcome % 2 ==0)\n",
    "    # Return Proportion of events to total rolls \n",
    "    return c / N\n",
    "\n",
    "# Should be close to 1/2\n",
    "simulate_even_die_outcome(10000)"
   ]
  },
  {
   "cell_type": "code",
   "execution_count": 11,
   "metadata": {},
   "outputs": [
    {
     "data": {
      "text/plain": [
       "0.4987"
      ]
     },
     "execution_count": 11,
     "metadata": {},
     "output_type": "execute_result"
    }
   ],
   "source": [
    "# More compactly using numpy\n",
    "def die_numpy_sim(N):\n",
    "    outcomes = randint(1,7,(N))\n",
    "    return np.sum( outcomes % 2 ==0) /N\n",
    "die_numpy_sim(10000)"
   ]
  },
  {
   "cell_type": "markdown",
   "metadata": {},
   "source": [
    "# Example 3: Simulating Birthday Collisions\n",
    "Suppose we have a group of $n$ people, and we are interested in the probability that any two people share a birthday. Computing this analytically can be a bit daunting at first (especially if you don't take the compliment).  In this section, we will us  Simulation to come up with an empirical estimate for this probability.  We start with some assumptions. \n",
    "\n",
    "- All birthdays across different people are independent \n",
    "- Every Birthday is equally Likely\n",
    "- There are $n$ people.\n",
    "- There are 365 Birthdays labled as $\\{1,2,3,\\ldots , 365 \\} = \\mathbb{N}_{365}$\n",
    "\n",
    "Lets also give these $N$ people names, say $P_1,\\ldots , P_n$.  Then the sample space $$\\Omega := \\{ (P_1,\\ldots , P_n) :  P_i \\in \\mathbb{N}_{365}\\}$$\n",
    "\n",
    "and the event of interest $A\\subset \\Omega$ can be written as $$A=\\{ (P_1, \\ldots , P_n) \\in \\Omega . : \\exists i,j, ~ i\\neq j   ,  P_i = P_j  \\}$$\n",
    "In plain English, this is the set where there exists 2 people who share the same birthday (can be read as **at least two people who share a birthday**)\n",
    "First, we need a way to simulate sampling $n$ people and their birthdays. This can be accomplished with randint on 1,...,365. Next, we need an indicator function to test for $A$. This is slightly more difficult, but can be reduced down to the following: \n",
    "\n",
    "\n",
    "- Given a python list, return `True` if there are duplicates, and `False` otherwise. Note: I have seen _this exact question_ on coding interviews.  There are many ways to do this, and I will cover a few. \n",
    "- Compare all pairs of elements in the array -- (Do not use this solution in a coding interview, it is computationally expensive)\n",
    "- Use python's set operation -- (better, than the previous) \n",
    "- Using an array. \n",
    "    - Disclaimer: In our case,  the list only contains integers $1 \\leq \\ell \\leq 365$. If the possible elements weren't contiguous, this  method would not work. \n",
    "- Python Dictionary -- (best solution as it allows for early stopping and allows you to easily check which element was a duplicate)\n",
    "- Another  solution not described here could use a Binary search trees. \n",
    "- For now, we will accept any solution that terminates when we run your code in a reasonable amount of time. There are efficiency concerns, but we will deal with this later in the semester. \n",
    "\n",
    "    - **[Feel free to ignore]** For those of you who know what a hash function is,  technically speaking, if you use something like a java hashmap (or other hash function) it is probabilistic and can lead to errors. If the hash map is \"good,\" in some sense, then the probability of this happening is smaller than winning the lottery multiple times in a row. It is this property that gives rise to a related property that makes it _hard_ to mine Bitcoin. For more on this property(s), see https://en.wikipedia.org/wiki/Random_oracle"
   ]
  },
  {
   "cell_type": "code",
   "execution_count": 12,
   "metadata": {},
   "outputs": [
    {
     "data": {
      "text/plain": [
       "(True, False)"
      ]
     },
     "execution_count": 12,
     "metadata": {},
     "output_type": "execute_result"
    }
   ],
   "source": [
    "# Some basic test cases\n",
    "# t1 has a dup, t2 does not \n",
    "t1 = [1,2,3,4,5,6,7,8,9,1]\n",
    "t2 = [1,2,3,4,5,6,7,8,9]\n",
    "def test_dup_bad(lst):\n",
    "    \"\"\"Slow way to test for dups\"\"\"\n",
    "    for i in range(len(lst)):\n",
    "        for j in range(len(lst)):\n",
    "            if j>=i:\n",
    "                # no need to check these\n",
    "                continue\n",
    "            if lst[i] == lst[j]:\n",
    "                #dup\n",
    "                return True\n",
    "    # no dups encountered\n",
    "    return False\n",
    "\n",
    "test_dup_bad(t1), test_dup_bad(t2)\n"
   ]
  },
  {
   "cell_type": "code",
   "execution_count": 13,
   "metadata": {},
   "outputs": [
    {
     "data": {
      "text/plain": [
       "(True, False)"
      ]
     },
     "execution_count": 13,
     "metadata": {},
     "output_type": "execute_result"
    }
   ],
   "source": [
    "def test_dup_set(lst):\n",
    "    \"\"\"Better solution\"\"\"\n",
    "    # built in function to remove all elements for you\n",
    "    return len(set(lst)) != len(lst)\n",
    "test_dup_set(t1), test_dup_set(t2)"
   ]
  },
  {
   "cell_type": "code",
   "execution_count": 14,
   "metadata": {},
   "outputs": [
    {
     "data": {
      "text/plain": [
       "(True, False)"
      ]
     },
     "execution_count": 14,
     "metadata": {},
     "output_type": "execute_result"
    }
   ],
   "source": [
    "def test_dup_array(lst):\n",
    "    \"\"\"All elements are assumed to be integers between 1 and 365 inclusive\n",
    "    - Note: We will se birthday-1 to be the index in the array count and \n",
    "    the calue will be the number of times we have seen that birthday before\n",
    "    hence, we initialize it to all zeros as as haven't see any birthdays yet\"\"\"\n",
    "    count = [0 for i in range(0,365)]\n",
    "    for i in lst:\n",
    "        count[i-1] +=1\n",
    "        if count[i-1] >=2:\n",
    "            return True\n",
    "    return False\n",
    "test_dup_array(t1), test_dup_array(t2)"
   ]
  },
  {
   "cell_type": "code",
   "execution_count": 15,
   "metadata": {},
   "outputs": [
    {
     "data": {
      "text/plain": [
       "(True, False)"
      ]
     },
     "execution_count": 15,
     "metadata": {},
     "output_type": "execute_result"
    }
   ],
   "source": [
    "def test_dup_dict(lst):\n",
    "    \"\"\" Best way using Python Dictionaries (out of the avaiable options)\"\"\"\n",
    "    d = {}\n",
    "    for i in lst:\n",
    "        if i  in d:\n",
    "            return True\n",
    "        d[i] = 1\n",
    "    return False\n",
    "test_dup_dict(t1), test_dup_dict(t2)"
   ]
  },
  {
   "cell_type": "code",
   "execution_count": 30,
   "metadata": {},
   "outputs": [
    {
     "data": {
      "text/plain": [
       "0.5064"
      ]
     },
     "execution_count": 30,
     "metadata": {},
     "output_type": "execute_result"
    }
   ],
   "source": [
    "def sim_birthday_paradox(n,N, f):\n",
    "    \"\"\"\n",
    "       n -- number of people\n",
    "       N -- number of trials\n",
    "       f -- function to test for dups\n",
    "       \"\"\"\n",
    "    c = 0 \n",
    "    for i in range(N):\n",
    "        # simulate n people with random birthdays\n",
    "        # Trial function\n",
    "        people = randint(1,366,(n))\n",
    "        # use the indicator function\n",
    "        c += test_dup_dict(people)\n",
    "    return c / N\n",
    "\n",
    "# You can pass functions in as arguments in python\n",
    "sim_birthday_paradox(23,10000, test_dup_dict)"
   ]
  },
  {
   "cell_type": "code",
   "execution_count": 31,
   "metadata": {},
   "outputs": [],
   "source": [
    "# Just for fun, look at the probability of a collision as n gets larger. \n",
    "# While not actually 1 until we have 366 people, the probability gets exponentially close to 1 way befor that!\n",
    "# So much so, that python will output 1!\n",
    "import matplotlib.pyplot as plt\n",
    "plt.style.use('seaborn')"
   ]
  },
  {
   "cell_type": "code",
   "execution_count": 32,
   "metadata": {},
   "outputs": [],
   "source": [
    "\n",
    "x = [i for i in range(1,367)]\n",
    "# Generates empirical probability of a pair of people sharing a birthday\n",
    "# for every number of people n=1,...,366\n",
    "# This will run for ~ 1 minute. \n",
    "y = [sim_birthday_paradox(i,10000, test_dup_dict) for i in x]"
   ]
  },
  {
   "cell_type": "code",
   "execution_count": 33,
   "metadata": {},
   "outputs": [
    {
     "data": {
      "image/png": "[encoded data removed]",
      "text/plain": [
       "<Figure size 1296x360 with 1 Axes>"
      ]
     },
     "metadata": {},
     "output_type": "display_data"
    }
   ],
   "source": [
    "plt.figure(figsize=(18,5))\n",
    "plt.bar(x,y, label=\"Probability\")\n",
    "plt.xlabel(\"Number of people \",fontsize=18)\n",
    "plt.ylabel(\"Probability of 2 (or more) people  \\n sharing a birthday\",fontsize=18)\n",
    "plt.title(\"Probability Plot for Birthday Collisions \\n as a function of the number of people $n$ \",fontsize=20)\n",
    "plt.plot(x,[.5 for i in x], label='1/2', c='r')\n",
    "plt.plot(x,[1 for i in x], label='1')\n",
    "plt.legend(loc=2)\n",
    "plt.show()"
   ]
  },
  {
   "cell_type": "code",
   "execution_count": 34,
   "metadata": {},
   "outputs": [
    {
     "data": {
      "image/png": "[encoded data removed]",
      "text/plain": [
       "<Figure size 720x720 with 1 Axes>"
      ]
     },
     "metadata": {},
     "output_type": "display_data"
    }
   ],
   "source": [
    "# Truncated version \n",
    "plt.figure(figsize=(10,10))\n",
    "plt.bar(x[:110],y[:110], label=\"Probability\")\n",
    "plt.xlabel(\"Number of people \",fontsize=18)\n",
    "plt.ylabel(\"Probability of 2 (or more) people  \\n sharing a birthday\",fontsize=18)\n",
    "plt.title(\"Probability Plot for Birthday Collisions \\n as a function of the number of people $n$ \",fontsize=20)\n",
    "plt.legend(loc=2)\n",
    "plt.show()"
   ]
  },
  {
   "cell_type": "markdown",
   "metadata": {},
   "source": [
    "# Implications of Birthday Paradox [Not Required]\n",
    "For those of you who are curious as to why we even care about if pairs of people share a birthday feel free to explore a particularly interesting application at https://en.wikipedia.org/wiki/Collision_attack, https://en.wikipedia.org/wiki/Birthday_attack  and https://en.wikipedia.org/wiki/Rainbow_table"
   ]
  },
  {
   "cell_type": "code",
   "execution_count": null,
   "metadata": {},
   "outputs": [],
   "source": []
  }
 ],
 "metadata": {
  "kernelspec": {
   "display_name": "Python 3",
   "language": "python",
   "name": "python3"
  },
  "language_info": {
   "codemirror_mode": {
    "name": "ipython",
    "version": 3
   },
   "file_extension": ".py",
   "mimetype": "text/x-python",
   "name": "python",
   "nbconvert_exporter": "python",
   "pygments_lexer": "ipython3",
   "version": "3.8.8"
  }
 },
 "nbformat": 4,
 "nbformat_minor": 2
}
