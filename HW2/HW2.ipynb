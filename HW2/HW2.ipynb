{
 "cells": [
  {
   "cell_type": "markdown",
   "metadata": {},
   "source": [
    "# $\\LaTeX$ commands\n",
    "$\\newcommand{\\SHA}{\\text{SHA256}}\n",
    "\\newcommand{\\R}{\\mathbb{R}}\n",
    "\\newcommand{\\Z}{\\mathbb{Z}}\n",
    "\\newcommand{\\N}{\\mathbb{N}}\n",
    "\\newcommand{\\Q}{\\mathbb{Q}}\n",
    "$\n"
   ]
  },
  {
   "cell_type": "code",
   "execution_count": 3,
   "metadata": {
    "tags": []
   },
   "outputs": [],
   "source": [
    "from numpy.random import seed, uniform, randint, exponential\n",
    "import argparse\n",
    "import math\n",
    "import hashlib, binascii\n",
    "import time\n",
    "import matplotlib.mlab as mlab\n",
    "import matplotlib.pyplot as plt\n",
    "import numpy as np\n",
    "from collections import Counter\n",
    "from scipy.stats import binom"
   ]
  },
  {
   "cell_type": "markdown",
   "metadata": {},
   "source": [
    "# Bitcoin Lab \n",
    "In this Lab, we are going to study some basic properties  of elementary distributions. As a motivating example, we are going to examine a simplified version of the cryptocurrency Bitcoin."
   ]
  },
  {
   "cell_type": "markdown",
   "metadata": {},
   "source": [
    "# What is Bitcion?\n",
    "Bitcoin a digital currency initially introduced by ``Satoshi Nakamoto\" in early 2008. While Bitcoin is incredibly fascinating in regards to philosophy and implementation, this lab will focus on how Bitcoin is \\textit{mined}. \n",
    "\n",
    "Bitcoin is similar to objects with ``intrinsic\" value which are\n",
    "obtained through physical labor such as\n",
    "gold. While there are many reasons why gold has become socially\n",
    "accepted as an object instilled with intrinsic value, it can be\n",
    "partially attributed to its scarcity and traditional difficulty of\n",
    "acquisition. For starters, if we were to acquire all of the gold in the\n",
    "world, and melt it down, it would fit in about $3.5$ Olympic regulation\n",
    "sized pools. Second, the process of mining gold is costly and\n",
    "physically difficult. You need to smack a rock with a pickax until you\n",
    "strike gold. Further, even if you mine for gold your whole life, there is no guarantee that you will ever actually mine any!\n",
    "\n",
    "In order to simulate this level of exertion, Bitcoin bases\n",
    "its algorithm for mining off of a $\\textit{proof of work}$ scheme, where\n",
    "instead of physically exerting oneself as in the case of gold mining,\n",
    "Bitcoin miners compute something that requires a considerable investment\n",
    "in the way of hardware, power, and time.\n",
    "The actual proof of work scheme involves finding\n",
    "an input to the SHA-256 hash function that has $n$\n",
    "leading zeros.  (So, the miner needs to find some $x$ such that\n",
    "$y=$SHA256$(x)$ where the first $n$ bits of $y$ are zero.) As a remark, there are restrictions on the input. \n",
    "\n",
    "\n",
    "Bitcoin makes use of a data structure called the Blockchain, which acts as a public\n",
    "ledger of all transactions. You can imagine it as a linked list of blocks.\n",
    "Each block contains a set of transactions.\n",
    "In order to mine a new Bitcoin, a miner needs to\n",
    "first propose a new block $B_j$ (which includes a set of transactions\n",
    "to be confirmed on the blockchain; we omit details but you can\n",
    "learn more about this online!). Then, the miner needs to $\\textit{confirm}$ this\n",
    "block $B_j$ by finding a nonce $r_j$ such that $y=\\SHA(B_{j-1}||B_j ||r_j)$ and the\n",
    "first $n$ bits of $y$ are zero.  $B_{j-1}$ is the previous block\n",
    "in the blockchain.  The nonce (a value that never repeats, usually a\n",
    "value that is chosen at random) $r_j$ is used to confirm that the\n",
    "block $B_j$ comes immediately after block $B_{j-1}$ on the blockchain.\n",
    "Miners compete to find a valid nonce $r_j$; the first miner to find\n",
    "and publish such a nonce $r_j$ to the other miners is rewarded with  bitcoin(s).\n"
   ]
  },
  {
   "cell_type": "markdown",
   "metadata": {},
   "source": [
    "# Bernoulli\n",
    "We begin the discussion of distributions with one of the most elementary and important: the Bernoulli distribution.  Many problems in probability theory involve independently repeating random experiments and observing whether or not a specific event occurs. That is, Bernoulli random variables arise naturally in probability theory as indicators of events.  As a motivating example, suppose out of all possible outcomes $\\Omega$, we define $A\\subset \\Omega$ to be a success and $\\Omega \\setminus A$ to be a failure . Such an experiment is modeled by a random variable $X$ with Bernoulli distribution written $X\\sim Bernouli(p)$ with outcomes\n",
    " $$X= \\begin{cases} 1 & \\text{if } A\\text{ occurs,}  \\\\\n",
    "0 & A \\text{ does not occur.}\n",
    "\\end{cases}$$\n",
    "\\begin{align*}\n",
    " \\Pr[X=1]&=p\\\\\n",
    "  \\Pr[X=0]&=1-p\\\\\n",
    "  \\Pr[X=k]&=0 \\qquad \\forall k\\notin\\{0,1\\}\n",
    "\\end{align*}\n",
    "\n",
    "Repeated trials of a random experiment are called Bernoulli trials if the following conditions are met.\n",
    "- The trials are independent of each other.\n",
    "- The result of each trial is either a success or a failure\n",
    "- The probability of success remains unchanged from trial to trial\n",
    "\n",
    " Recall that independence of random variables $X,Y$ is defined as $$\\Pr[X|Y]=\\Pr[X]$$\n",
    "  and similarly, $$\\Pr[Y|X]=\\Pr[Y]$$\n",
    "  \n",
    "  \n",
    "  Intuitively, this means that observing the outcome of one event in no way influences the outcome of future outcomes. For example, if I flip a fair coin 100 times and get all heads, I am still equally as likely to get heads or tails on the 101st flip. Each coin flip can be thought of as an independent Bernoulli trial with probability of success $p=1/2$.\n",
    "More generally, the most elementary example of a Bernoulli random variable, is flipping a $p$-biased coin, and having the random variable take on $1$ (success) if the coin comes up heads and $0$ (failure) otherwise. \n",
    "\n",
    "It is important to keep in mind why it is even worth studying distributions, aside from the fact that they are interesting in their own right. In particular, we, as computer scientists often wish model the outcome of uncertain events.  Lets look at a single attempt at mining a Bitcoin. To model this process, we make a few assumptions.\n",
    "\n",
    "First, lets assume that outputs of the hash function are indistinguishible from what is called a \\textit{Random Oracle}.  That is, on input $x\\in \\{0,1\\}^*$, the output value $\\SHA(x)$ is uniformly chosen from $\\{0,1\\}^{256}$, which is the same as if you flipped 256 fair independent coins and recorded the output. Further, if you hash the same $x$, you get the same value both times. Hence, it behaves like an oracle that on a request randomly chooses an output, and then remembers it for future requests. \n",
    "\n",
    "Second, assume that each miner randomly chooses a value for the nonce $r_j$, hashes it along with $B_j$ and $B_{j_1}$, and checks if the output has $\\rho$ leading zeros. If it doesn't, it chooses a fresh random $r_j$ and tries again. As a remark, it is not this simple in reality. \n",
    "\n",
    "Third, lets assume that the required number of leading zeros is denoted  $\\rho\\in \\N$. Note that in real life, this parameter is chosen by the Bitcoin community based on the number of active miners and the total computing power available to the miners in order to curb the introduction of new blocks. \n",
    "\n",
    "Under these assumptions, we can model a single attempt as a Bernoulli experiment with parameter $p$ where $p$ is the probability of successfully mining a Bitcoin. \n",
    "\n",
    "\n",
    " As mentioned earlier, the parameter $\\rho$ which is the number of leading zeroes is NOT always the same. For a given $\\rho\\in \\{0,1,2,...,256\\}$, we want to be able to write down the probability of finding a nonce $r$ that verifies for a block $B_{j-1}$. I will do the first 1 for you-- if $\\rho=0$, we assume this means we don't care how many leading zeroes there are, and the probability of success is 1.   "
   ]
  },
  {
   "cell_type": "markdown",
   "metadata": {},
   "source": [
    "# Question 1 a)\n",
    "-a) Recall that we assume $\\SHA$ is indistinguishable from a random oracle. Under this assumption, let $p$ be the probability that a randomly chosen nonce $r_j$ confirms that some block $B_j$ comes after block $B_{j-1}$. Determine $p$ in terms of $\\rho$. Hint-- recall that a when a random oracle (on $\\{0,1\\}^{256}$ is queried on a new input, its response is uniformly chosen from $\\{0,1\\}^{256}$ and becomes fixed for that input.\n",
    "In other words, let $X$ be a Bernoulli Random variable that is 1 if a block is confirmed by a nonce, and 0 otherwise Then $X\\sim Bernoulli \\Big(f(\\rho) \\Big)$. Find $f$. "
   ]
  },
  {
   "cell_type": "markdown",
   "metadata": {},
   "source": [
    "**Your answer here. **\n",
    "\n",
    "[Solution ] \n",
    "This can be thought of as the probability of getting $\\rho$ heads in a row when flipping a fair coin. This value is exactly\n",
    "$$p= \\frac{1}{2^\\rho}. $$ IE, $$f(\\rho)  =  \\frac{1}{2^{\\rho}}$$"
   ]
  },
  {
   "cell_type": "markdown",
   "metadata": {},
   "source": [
    "# Question 1 b) \n",
    "Let $X$ be a  random variable that for a single trial  takes on 1 if a nonce verifies a new block and $0$ otherwise.  Write a python function  function  $\\texttt{ Bernoulli_mine}$ simulates $X$ in terms of $\\rho$. You are only allowed to use $\\texttt{uniform}$ for this question. "
   ]
  },
  {
   "cell_type": "code",
   "execution_count": 35,
   "metadata": {},
   "outputs": [],
   "source": [
    "#Question 1\n",
    "def Bernoulli_mine(leading_zeroes):  # should return 1 w/ probability f, 0 w/ probability 1-f\n",
    "    p = 1 / (2**leading_zeroes)\n",
    "    \n",
    "    if uniform() <= p:\n",
    "        return 1\n",
    "    else:\n",
    "        return 0"
   ]
  },
  {
   "cell_type": "code",
   "execution_count": 102,
   "metadata": {
    "tags": []
   },
   "outputs": [
    {
     "name": "stdout",
     "output_type": "stream",
     "text": [
      "[0, 0, 1, 1, 0, 0, 1, 0, 1, 0]\n",
      "[0, 0, 0, 0, 0, 0, 0, 0, 0, 0]\n",
      "[0, 0, 0, 0, 0, 0, 0, 0, 0, 0]\n"
     ]
    },
    {
     "data": {
      "image/png": "[encoded data removed]",
      "text/plain": [
       "<Figure size 432x288 with 1 Axes>"
      ]
     },
     "metadata": {
      "needs_background": "light"
     },
     "output_type": "display_data"
    },
    {
     "data": {
      "image/png": "[encoded data removed]",
      "text/plain": [
       "<Figure size 432x288 with 1 Axes>"
      ]
     },
     "metadata": {
      "needs_background": "light"
     },
     "output_type": "display_data"
    },
    {
     "data": {
      "image/png": "[encoded data removed]",
      "text/plain": [
       "<Figure size 432x288 with 1 Axes>"
      ]
     },
     "metadata": {
      "needs_background": "light"
     },
     "output_type": "display_data"
    }
   ],
   "source": [
    "def show_distribution(outcomes, title='Probability Distribution'):\n",
    "    num_trials = len(outcomes)\n",
    "    X = range( int(min(outcomes)), int(max(outcomes))+1 )\n",
    "    freqs = Counter(outcomes)\n",
    "    Y = [freqs[i]/num_trials for i in X]\n",
    "    plt.bar(X,Y,width=1.0,edgecolor='black')\n",
    "    plt.title(title)\n",
    "    return \n",
    "\n",
    "mine_1 = [Bernoulli_mine(1) for i in range(10)]\n",
    "mine_3 = [Bernoulli_mine(3) for i in range(10)]\n",
    "mine_6 = [Bernoulli_mine(6) for i in range(10)]\n",
    "\n",
    "print(mine_1)\n",
    "print(mine_3)\n",
    "print(mine_6)\n",
    "\n",
    "show_distribution(mine_1)\n",
    "plt.show()\n",
    "show_distribution(mine_3)\n",
    "plt.show()\n",
    "show_distribution(mine_6)\n",
    "plt.show()"
   ]
  },
  {
   "cell_type": "markdown",
   "metadata": {},
   "source": [
    "# README\n",
    "For questions where you are asked to plot a histogram, unless otherwise specified, please submit 3 graphs corresponding to $\\rho=1,3,6$. \n",
    "Failure to include graphs will result in a lower grade. \n"
   ]
  },
  {
   "cell_type": "markdown",
   "metadata": {},
   "source": [
    "# Question 1 c)\n",
    "For this problem, lets assume that block $B_{j-1}$ has value `wubba lubba` (note the space) and block $B_j$ has value `dub dub`. Let $X$  be a random variable that takes on value 1 if we successfully found a nonce, and 0 otherwise  Write a function called $\\texttt{bernoulli_hist}$($n$,$\\rho$) that does the following:\n",
    " - Simulates the PMF of $X$ where the number of leading zeros needed for a success is $\\rho$.\n",
    " - Plot a histogram of frequencies of success and failures. Scale the y-axis so that we see frequencies like we did in Lab 1. \n",
    " - Under the assumption that each mine can be modeled by a Bernoulli random variable, plot the theoretical PMF on top of the histogram. Note that there are only two points to plot, so a good way to ensure both graphs are visible is to use a scatter plot for the theoretical PMF and use a different color. \n",
    "  -   To accomplish this, generate a random nonce and append it to $B_{j-1}||B_j$, hash it using $\\SHA$ and count the number of leading zeros. If the number of leading zeros is greater than or equal to $\\rho$, this is a success (1) and a failure otherwise (0). In order to get a good estimate for the PMF, repeat this process 10,000 times and plot the resulting histogram.  You might also find the show distribution function from lab 1 useful.\n",
    " "
   ]
  },
  {
   "cell_type": "code",
   "execution_count": 32,
   "metadata": {},
   "outputs": [
    {
     "name": "stdout",
     "output_type": "stream",
     "text": [
      "2a97516c354b68848cdbd8f54a226a0a55b21ed138e207ad6c5cbb9c00aa5aea\n"
     ]
    },
    {
     "data": {
      "text/plain": [
       "(False, '')"
      ]
     },
     "execution_count": 32,
     "metadata": {},
     "output_type": "execute_result"
    }
   ],
   "source": [
    "import string\n",
    "import random\n",
    "from bitstring import BitArray\n",
    "\n",
    "# Hash Mine \n",
    "# HASH EXAMPLE\n",
    "inp = \"demo\".encode(\"utf-8\")\n",
    "print(hashlib.sha256(inp).hexdigest())\n",
    "\n",
    "def count_leading_zeros(bitstring):\n",
    "    \"\"\"Helper method to count the leading zeros in a bit string.\"\"\"\n",
    "    leading_zeros = 0\n",
    "    \n",
    "    # get the index of the first 1\n",
    "    first_1 = bitstring.find(\"1\")\n",
    "    \n",
    "    if(first_1 == -1):\n",
    "        leading_zeros = 256  # if there is no 1 found, the string is all 0s\n",
    "    else:\n",
    "        leading_zeros = first_1  # otherwise, there are that many leading 0s\n",
    "    \n",
    "    return leading_zeros\n",
    "\n",
    "\n",
    "def hash_mine(b_old, b_new, rho):\n",
    "    \n",
    "    # generate a random nonce of length 10\n",
    "    r = \"\".join(random.choices(string.ascii_lowercase + string.digits, k = 10)) \n",
    "    \n",
    "    # append it to the block and encode\n",
    "    to_hash = (b_old + b_new + r).encode(\"utf-8\")\n",
    "    \n",
    "    # hash using SHA256 and get the bit string\n",
    "    hashed_hex = hashlib.sha256(to_hash).hexdigest()\n",
    "    bits = BitArray(hex=hashed_hex).bin\n",
    "        \n",
    "    # count the leading zeroes: success if # of leading zeros >= rho, fail if not\n",
    "    if count_leading_zeros(bits) >= rho:\n",
    "        return (True, r)\n",
    "    else:\n",
    "        return (False, \"\")\n",
    "\n",
    "\n",
    "hash_mine(\"wubba lubba\", \"dub dub\", 3)\n"
   ]
  },
  {
   "cell_type": "code",
   "execution_count": 54,
   "metadata": {},
   "outputs": [
    {
     "data": {
      "image/png": "[encoded data removed]",
      "text/plain": [
       "<Figure size 432x288 with 1 Axes>"
      ]
     },
     "metadata": {
      "needs_background": "light"
     },
     "output_type": "display_data"
    },
    {
     "data": {
      "image/png": "[encoded data removed]",
      "text/plain": [
       "<Figure size 432x288 with 1 Axes>"
      ]
     },
     "metadata": {
      "needs_background": "light"
     },
     "output_type": "display_data"
    },
    {
     "data": {
      "image/png": "[encoded data removed]",
      "text/plain": [
       "<Figure size 432x288 with 1 Axes>"
      ]
     },
     "metadata": {
      "needs_background": "light"
     },
     "output_type": "display_data"
    }
   ],
   "source": [
    "# Histogram \n",
    "def bernoulli_hist(b_old, b_new, rho, N=10000):\n",
    "    results=[ hash_mine(b_old, b_new, rho)[0] for i in range(N) ]  # we only need the result\n",
    "    p = 1.0 / (2.0 ** rho)\n",
    "    show_distribution(results, \"Bernoulli Histogram\")\n",
    "    plt.scatter([0, 1], [1.0-p,  p], c=\"r\", marker='o' , s=100)\n",
    "    plt.xlabel(\"Outcomes\")\n",
    "    plt.ylabel(\"Probabilities\")\n",
    "    plt.show()\n",
    "\n",
    "bernoulli_hist('wubba lubba ', 'dub dub', 1)\n",
    "bernoulli_hist('wubba lubba ', 'dub dub', 3)\n",
    "bernoulli_hist('wubba lubba ', 'dub dub', 6)"
   ]
  },
  {
   "cell_type": "markdown",
   "metadata": {},
   "source": [
    "# Geometric Distribution \n",
    "\n",
    "As I am sure many of you will recognize at this point, our current model is very limited. It is only capable of modeling 1 attempt at mining. In reality, we will likely have to try billions of nonces before we are ever successful. A natural way to extend this model is to allow for a sequence of mining attempts. In other words, we are moving away from a singular Bernoulli trial to *some* number of Bernoulli trials. How many you ask? In this section, lets assume we will continue to mine until we successfully find a verifying nonce.  We make the following assumptions: \n",
    "\n",
    "- $\\rho$ stays constant during this series \n",
    "- As a result, the probability of success remains constant\n",
    "- Each trial is independent. \n",
    " \n",
    "A good example to keep in mind is the experiment from Lab 1 of repeatedly flipping a $p$ biased coin until we observe a heads. This example gives us an (almost) complete description of the Geometric distribution. \n",
    "\n",
    " Let $\\{X_i\\}$ be collection of independent trials of a Bernoulli experiment where $i$ is the trial number  and $p$ is the probability of success(written $X_i \\sim Bernoulli(p)$). Let $$T=\\min\\{t: X_t=1\\}$$\n",
    " In English, $T$ is the index where we first observe a success. From class, we have $$p_X(k)=\\Pr[X_T=k]=p(1-p)^{k-1}\\qquad \\forall k\\in \\N $$\n",
    " $X$ has a geometric distribution, written $X\\sim G(p)$.\n",
    "As a remark, there is an equivalent definition that is defined in terms of the number of failures in the string. Notice that this definition has range $\\{0,1,2,3...\\}=\\{0\\} \\cup \\N$. We will use the convention that the first Bernoulli trial occurs at $t=1$ and $X$ takes on the index of the first success. "
   ]
  },
  {
   "cell_type": "markdown",
   "metadata": {},
   "source": [
    "# Problem 2\n",
    "   For this problem, lets assume that block $B_{j-1}$ has value `wubba lubba` (note the space) and block $B_j$ has value `dub dub`. Complete the python function   `geometrix_hash_mine` that takes as input an integer $\\rho$, the block $B=B_{j-1}||B_j$ and finds a nonce $r$ such that $\\SHA(B_{j-1}||B_j||r)$ has at least   $\\rho$ leading zeros. This function should return `num_trials`, $r$ where `num_trials` is the number of trials it took to successfully find a verifying nonce $r$."
   ]
  },
  {
   "cell_type": "code",
   "execution_count": 45,
   "metadata": {},
   "outputs": [
    {
     "data": {
      "text/plain": [
       "(12, 'qbigw1af08')"
      ]
     },
     "execution_count": 45,
     "metadata": {},
     "output_type": "execute_result"
    }
   ],
   "source": [
    "def geometric_hash_mine(b_old, b_new, rho):\n",
    "    \n",
    "    trial = 0\n",
    "    nonce_found = False\n",
    "    \n",
    "    while(nonce_found == False):\n",
    "        # generate a random nonce of length 10\n",
    "        r = \"\".join(random.choices(string.ascii_lowercase + string.digits, k = 10))\n",
    "        \n",
    "        # append it to the block and encode\n",
    "        to_hash = (b_old + b_new + r).encode(\"utf-8\")\n",
    "        \n",
    "        # hash using SHA256 and get the bit string\n",
    "        hashed_hex = hashlib.sha256(to_hash).hexdigest()\n",
    "        bits = BitArray(hex=hashed_hex).bin\n",
    "    \n",
    "        # count the leading zeroes: success if >= rho, fail if not        \n",
    "        if count_leading_zeros(bits) >= rho:\n",
    "            nonce_found = True\n",
    "            return (trial, r)\n",
    "        else:\n",
    "            trial += 1\n",
    "    \n",
    "geometric_hash_mine(\"wubba lubba\", \"dub dub\", 3)"
   ]
  },
  {
   "cell_type": "markdown",
   "metadata": {},
   "source": [
    " # Problem 2b\n",
    " Let $X$ be a random variable that denotes the first index at which a verifying nonce was found.  In this question you will be estimating the PMF of $X$. \n",
    "Write a function called`geometric_hist(b_old, b_new, rho)` that takes as input the number of leading zeroes $\\rho$ and $B=B_{j-1}||B_j$ (old block and new block)and plots the histogram of 100,000 calls to `geometric_hash_mine`.  Note you only need the first element of the output for each call (IE don't plot the nonce, only the number of tries it took successfully find a verifying nonce). \n",
    "On top of the histogram, plot the actual PMF of $X$ based on $\\rho$. \n",
    "Explain why the Geometric distribution is a good model for this experiment."
   ]
  },
  {
   "cell_type": "code",
   "execution_count": 109,
   "metadata": {},
   "outputs": [],
   "source": [
    "def geometric_hist(b_old, b_new, rho, N=10000):\n",
    "    results=[ geometric_hash_mine(b_old, b_new, rho)[0] for i in range(N) ]    \n",
    "    p = 1.0 / (2.0 ** rho)\n",
    "    q = 1.0 - p\n",
    "    show_distribution(results, \"Geometric Histogram\")\n",
    "    \n",
    "    #print(results)\n",
    "    #c = Counter(results)\n",
    "    #print(c[0])\n",
    "    \n",
    "    plt.scatter(results, [(q**(x))*p for x in results], c=\"r\", marker='o' , s=100)\n",
    "    plt.xlabel(\"Outcomes\")\n",
    "    plt.ylabel(\"Probabilities\")\n",
    "    plt.show()"
   ]
  },
  {
   "cell_type": "code",
   "execution_count": 110,
   "metadata": {},
   "outputs": [
    {
     "data": {
      "image/png": "[encoded data removed]",
      "text/plain": [
       "<Figure size 432x288 with 1 Axes>"
      ]
     },
     "metadata": {
      "needs_background": "light"
     },
     "output_type": "display_data"
    },
    {
     "data": {
      "image/png": "[encoded data removed]",
      "text/plain": [
       "<Figure size 432x288 with 1 Axes>"
      ]
     },
     "metadata": {
      "needs_background": "light"
     },
     "output_type": "display_data"
    },
    {
     "data": {
      "image/png": "[encoded data removed]",
      "text/plain": [
       "<Figure size 432x288 with 1 Axes>"
      ]
     },
     "metadata": {
      "needs_background": "light"
     },
     "output_type": "display_data"
    }
   ],
   "source": [
    "geometric_hist('wubba lubba ', 'dub dub', 1)\n",
    "geometric_hist('wubba lubba ', 'dub dub', 3)\n",
    "geometric_hist('wubba lubba ', 'dub dub', 6)"
   ]
  },
  {
   "cell_type": "markdown",
   "metadata": {},
   "source": [
    "The Geometric distribution is a good model for this experiment because the aim is to count the number of trials before the first success, where a success is finding a verifying nonce. Further, each trial is iid Bernoulli and the probability of success is constant throughout the experiment, which means that the Geometric distribution is appropriate. "
   ]
  },
  {
   "cell_type": "markdown",
   "metadata": {},
   "source": [
    "# Binomial Distribution\n",
    "Now suppose we conduct a finite sequence of independent  Bernoulli trials. Often, we are interested in counting the number of successes.  As a motivating example, suppose you flip 3 fair coins, and are interested in the probability that exactly one coin comes up heads. We first write down the space of possible outcomes where $T$ denotes tails and $H$ denotes heads.  $$\\Omega=\n",
    "\\{ (HHH), (HHT), (HTH), (THH), (TTH),(THT), (HTT), (TTT)\\}$$\n",
    "We next identify the set $A$ of all trials with exactly one heads\n",
    "$$A\\subset \\Omega=\\{(TTH),(THT)(HTT)\\}$$\n",
    "In the case where the coin is fair, the probability that exactly one of the trials is heads is $$\\frac{|A|}{|\\Omega|}= \\frac{3}{8}$$\n",
    "A random variable $X$ that counts the number of successes in a sequence of independent Bernoulli trials with shared probability of success $p\\in (0,1)$ is called a Binomial random variable written $X\\sim B(n,p)$ where $n$ is the number of trials and $p$ is the probability of success.\n",
    "\n",
    "In the case of the above example, the number of trials is 3, as we flip 3 coins and the probability of success is $p=\\frac{1}{2}$ since the  coin is fair.\n",
    "\n",
    "Generalizing this for $X\\sim B(n,p)$, we are interested in $\\Pr[X=k]$ which is the probability that in a string of $n$ Bernoulli trials, we get exactly $k$ successes. If we observed $k$ success, then that means there were $n-k$ failures as there were $n$ trials total. Now we note that there are exactly $\\binom{n}{k}$ ways of having $k$ success and $n-k$ failures. Finally, since each trial is independent, we have\n",
    "\\begin{equation}\n",
    "\\Pr[B(n,p)=k]=\\binom{n}{k}p^{k}(1-p)^{n-k} \\qquad \\forall k\\in\\{0,1,...,n\\}\\nonumber\n",
    "\\end{equation}\n",
    "In English, suppose we flip a $p$ biased coin $n$ times. Then probability that exactly $k$ of these coins land heads up is exactly the PMF($k$) of $X\\sim B(n,p)$."
   ]
  },
  {
   "cell_type": "markdown",
   "metadata": {},
   "source": [
    "# Question 3 a\n",
    "Write a function called binomial\\_mine($\\rho,n$) that simulates $n$ attempts  at finding a verifying nonce $r$ according to a binomial model where the probability of mining a coin on any attempt is depends on $\\rho$ (again, the number of leading zeros). This function should output the number of successes.  Use bernoulli\\_mine($\\rho$) as subroutine in your function. "
   ]
  },
  {
   "cell_type": "code",
   "execution_count": 49,
   "metadata": {},
   "outputs": [
    {
     "data": {
      "text/plain": [
       "3"
      ]
     },
     "execution_count": 49,
     "metadata": {},
     "output_type": "execute_result"
    }
   ],
   "source": [
    "def binomial_mine(rho, n):\n",
    "    \"\"\"Concurrent Trials \"\"\"\n",
    "    outcomes = []\n",
    "    \n",
    "    for i in range(n):\n",
    "        outcomes.append(Bernoulli_mine(rho))\n",
    "        \n",
    "    counter = Counter(outcomes)\n",
    "    return counter[1]\n",
    "\n",
    "binomial_mine(3, 10)"
   ]
  },
  {
   "cell_type": "markdown",
   "metadata": {},
   "source": [
    "# Question 4)\n",
    "Write a function `binom_hash_mine(b_old,b_new, rho, n)` which takes parameters $B=B_{j-1}||B_j$, $n$, $\\rho$, and  returns the number of coins successfully mined in $n$ calls to $\\texttt{hash\\_mine}$"
   ]
  },
  {
   "cell_type": "code",
   "execution_count": 97,
   "metadata": {},
   "outputs": [
    {
     "data": {
      "text/plain": [
       "2"
      ]
     },
     "execution_count": 97,
     "metadata": {},
     "output_type": "execute_result"
    }
   ],
   "source": [
    "def binomial_hash_mine(b_old, b_new, rho, n):\n",
    "    outcomes = []\n",
    "    \n",
    "    for i in range(n):\n",
    "        outcomes.append(hash_mine(b_old, b_new, rho)[0])\n",
    "        \n",
    "    counter = Counter(outcomes)\n",
    "    return counter[True]\n",
    "\n",
    "binomial_hash_mine(\"wubba lubba \", \"dub dub \", 3, 10)"
   ]
  },
  {
   "cell_type": "markdown",
   "metadata": {},
   "source": [
    "# Question 5\n",
    "Write a function called `binom_hist(b_old,b_new, rho, n)` which plots the result of 1,000 calls to `binom_hash_mine`. Scale the y-axis so we see probabilities. Plot the theoretical PMF of the Binomial distribution with parameters $n$ and $p$ where $p$ depends on $\\rho$.  Explain why the Binomial distribution is a good model for this experiment. \n",
    "\n",
    "Notice that if we try to increase the number of data points from 10,000 to 100,000 this becomes incredibly slow. Further, we encounter overflow errors if we pick $n>100$. (Alternatively, you could use `from scipy.stats import binom` which computes the PMF in such a way that it doesn't overflow). "
   ]
  },
  {
   "cell_type": "code",
   "execution_count": 100,
   "metadata": {},
   "outputs": [],
   "source": [
    "def binom_coeff_helper(n, k):\n",
    "    return math.factorial(n) / (math.factorial(k) * math.factorial(n - k))\n",
    "\n",
    "def binomial_hist(b_old, b_new, rho, n, N=10000):\n",
    "    results=[ binomial_hash_mine(b_old, b_new, rho, n) for i in range(N) ]\n",
    "    p = 1.0 / (2.0 ** rho)\n",
    "    q = 1.0 - p\n",
    "    show_distribution(results, \"Binomial Histogram\")\n",
    "    plt.scatter(results, [binom_coeff_helper(n, x)*(p**x)*(q**(n-x)) for x in results], \n",
    "                c=\"r\", marker='o', s=100)\n",
    "    plt.xlabel(\"Outcomes\")\n",
    "    plt.ylabel(\"Probabilities\")\n",
    "    plt.show()"
   ]
  },
  {
   "cell_type": "code",
   "execution_count": 101,
   "metadata": {},
   "outputs": [
    {
     "data": {
      "image/png": "[encoded data removed]",
      "text/plain": [
       "<Figure size 432x288 with 1 Axes>"
      ]
     },
     "metadata": {
      "needs_background": "light"
     },
     "output_type": "display_data"
    },
    {
     "data": {
      "image/png": "[encoded data removed]",
      "text/plain": [
       "<Figure size 432x288 with 1 Axes>"
      ]
     },
     "metadata": {
      "needs_background": "light"
     },
     "output_type": "display_data"
    },
    {
     "data": {
      "image/png": "[encoded data removed]",
      "text/plain": [
       "<Figure size 432x288 with 1 Axes>"
      ]
     },
     "metadata": {
      "needs_background": "light"
     },
     "output_type": "display_data"
    }
   ],
   "source": [
    "binomial_hist('wubba lubba ', 'dub dub', 1, 100)\n",
    "binomial_hist('wubba lubba ', 'dub dub', 2, 100)\n",
    "binomial_hist('wubba lubba ', 'dub dub', 3, 100)"
   ]
  },
  {
   "cell_type": "markdown",
   "metadata": {},
   "source": [
    "The Binomial distribution is a good model for this experiment because the aim is to count the number of successes in N trials, where each trial is iid Bernoulli and the probability of a success is the same for each trial. "
   ]
  }
 ],
 "metadata": {
  "kernelspec": {
   "display_name": "Python 3",
   "language": "python",
   "name": "python3"
  },
  "language_info": {
   "codemirror_mode": {
    "name": "ipython",
    "version": 3
   },
   "file_extension": ".py",
   "mimetype": "text/x-python",
   "name": "python",
   "nbconvert_exporter": "python",
   "pygments_lexer": "ipython3",
   "version": "3.7.4"
  }
 },
 "nbformat": 4,
 "nbformat_minor": 4
}
