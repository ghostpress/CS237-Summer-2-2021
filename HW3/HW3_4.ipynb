{
 "cells": [
  {
   "cell_type": "markdown",
   "id": "bd1ccbf2-2de2-42f1-aea6-a2e83d8e8a7b",
   "metadata": {},
   "source": [
    "# Problem 0\n",
    "\n",
    "## Part 1\n",
    "Suppose there is a population of 1000 people whos average age is 65.  Let $X$ be a random variable that outputs the age of a person randomly selected from the population. Find $E[X]$\n",
    "\n",
    "## Part 2\n",
    "Let $X$ be a discrete uniform distribution on $\\mathbb{N}_{10}$.  Suppose $X_i$ for $i=1,\\ldots,100$ are all i.i.d. draw from $X$. (I.e., we independantly repeat this experiment 100 times). Use simulation to  estimate the mean. Compare this to the anlalytical value. "
   ]
  },
  {
   "cell_type": "code",
   "execution_count": null,
   "id": "08f0d136-bf18-4e0a-a4e5-3bfb2951ab70",
   "metadata": {},
   "outputs": [],
   "source": []
  },
  {
   "cell_type": "markdown",
   "id": "8f820044-f8a9-4f5c-b6c3-9c1c6a2cdb14",
   "metadata": {},
   "source": [
    "## Problem 1 (Independent Joint Random Variables) Do not skip \n",
    "\n",
    "From an ordinary deck of 52 cards, 8 cards are drawn at random and without replacement. Let $X$ and $Y$ be the number of clubs and the number of spades, respectively. Are $X$ and $Y$ independent?\n",
    "\n",
    "Hint: Rather than draw out the whole matrix, just use the fact that $X$ and $Y$ are independent iff\n",
    "\n",
    "$$P(X\\,\\vert\\, Y = k ) = P(X)\\quad\\text{for}\\quad 0\\le k\\le 8.$$\n",
    "\n",
    "Investigate whether this is true for various values of $k$, starting with $k=8$. OR, just check these cells in the matrix and see if you can find a counter-example. "
   ]
  },
  {
   "cell_type": "markdown",
   "id": "fe2dfc5d-bf40-41fd-a6ef-55585932eb79",
   "metadata": {},
   "source": []
  },
  {
   "cell_type": "code",
   "execution_count": null,
   "id": "8711c20d-d074-41a9-80ff-8171733f9d1c",
   "metadata": {},
   "outputs": [],
   "source": []
  },
  {
   "cell_type": "markdown",
   "id": "5293afcd-0ee7-4774-b060-0c08d0e0bd1e",
   "metadata": {},
   "source": [
    "# Problem 2 (Electrical Components, Weiss Book Example)\n",
    "Consider two identical electrical components. Let $X$ and $Y$ denote the respective lifetime of the two compenends observed at discrete units of time (e.g., every hour). Assume that the joint PMF of $X,Y$ is $$P_{X,Y}(x,y) = p^2(1-p)^{x + y  - 2}$$ for $x,y\\in\\mathbb{N}$ and 0 otherwise, and $p\\in(0,1)$. \n",
    "# Part 1\n",
    "Find and identify the marginal PMFs of $X$ and $Y$\n",
    "# Part 2\n",
    "Determine the probability that  both electrical parts last longer than 4 uints of time \n",
    "# Part 3\n",
    "Determine the probability that one of the electrical componeets lasts at least twice as long as the other \n",
    "# Part 4\n",
    "Determine the joint PMF of $Y$ given $X=x$ \n",
    "# Part 5\n",
    "Compare the conditional PMFs of $Y$ given $X=x$ to each other other and the marginal PMF of $Y$. Intrepret the result "
   ]
  },
  {
   "cell_type": "code",
   "execution_count": null,
   "id": "21b47e8b-16ef-4529-b25d-6a2882c2bfe4",
   "metadata": {},
   "outputs": [],
   "source": []
  },
  {
   "cell_type": "markdown",
   "id": "2acb7e0b-db3e-4a86-bd22-cd03b20d1cf3",
   "metadata": {},
   "source": [
    "# Problem  3 (Emergency Room Traffic)\n",
    "THe number of people $Z$ arriving at an emergency room during a one hour period has a Poisson distribution with parameter $\\lambda$. Independet of other arrivals, an arrival is male with probability $p$ and female with probability $q$ with $p+q=1$.  Let $X$ denote the number of men and $Y$ denote the number of women. \n",
    "\n",
    "# Part 1\n",
    "Show that $X$ has Poisson distribution with parameter $p\\lambda$ and $y$ has a Poisson distribution with paramater $q\\lambda$\n",
    "\n",
    "# Part 2\n",
    "Show that $X$ and $Y$ are independant variables "
   ]
  },
  {
   "cell_type": "markdown",
   "id": "81f73e18-7c7c-41bb-bd22-bbc12036378a",
   "metadata": {},
   "source": [
    "# Problem 4\n",
    "Suppose $X,Y$ are independant random variables each having discrete uniform distribution on $\\{0,\\ldots, N\\}$. Let $Z$ be the magnitude of the diference between $X,Y$.\n",
    "\n",
    "## Part 1\n",
    "Find the PMF of $Z$ using both \n",
    "- Combinitorial analysis \n",
    "- Using the result we proved in class about the PMF of a function of two discrete random variables. Namely:\n",
    "\n",
    "\n",
    "$$P_Z(z) = \\sum\\sum_{(x,y) \\in g^{-1}({z})} p_{X,Y}(x,y)$$\n",
    "\n",
    "\n",
    "## Part 2\n",
    "Find the PMF of $Z = X + y$\n",
    "## Part 3\n",
    "Find the PMF of $Z = \\min(x,y)$\n",
    "## Part 4\n",
    "Find the PMF of $Z=\\max(X,Y)$"
   ]
  },
  {
   "cell_type": "code",
   "execution_count": 1,
   "id": "9fb80624-7c44-4c4c-948c-b0a60256b6b9",
   "metadata": {},
   "outputs": [],
   "source": []
  },
  {
   "cell_type": "markdown",
   "id": "065a26df-12b2-4566-bf2b-f52c2d0b2bad",
   "metadata": {},
   "source": [
    "# Problem 5 (Unbiased Estimator)\n",
    "Suppose we randomly select an element from a population $\\Omega=\\{\\omega_1,\\ldots ,\\omega_N\\}$, and let $X$ be a random variable defined on $\\Omega$.\n",
    "Suppose the mean of $X$ is $\\mu$. That is, \n",
    "$$\\mu = \\sum_{j=1}^N X(\\omega_j)P_X(X(\\omega_J)) = \\frac{1}{N} \\sum_{j=1}^{N}X(\\omega_j)$$\n",
    "Let $S=\\{\\omega_1,\\ldots, \\omega_{n} \\}$ be a random sample of $\\Omega$ of size $n$. \n",
    "\n",
    "let $\\bar{X} = \\frac{1}{n}\\sum_{i=1}^n X(\\omega(i))$\n",
    "Prove that $E[\\bar{X}] = \\mu$"
   ]
  },
  {
   "cell_type": "code",
   "execution_count": null,
   "id": "be4c19e5-bb99-4946-b082-ff6d2400053a",
   "metadata": {},
   "outputs": [],
   "source": []
  },
  {
   "cell_type": "markdown",
   "id": "c7c4ca5a-cc2c-4997-ad4b-2ac3d5d4165c",
   "metadata": {},
   "source": [
    "# Problem 6\n",
    "Let $X,Y$ be the outcome of rolling two fair and independant 6 sided die.\n",
    "# Part 1\n",
    "Find $E[3x + 4Y]$\n",
    "# Part 2\n",
    "Find E[XY]]\n",
    "# Part 3\n",
    "Find $\\text{Var}(X + Y)$\n",
    "# Part 4\n",
    "Find $\\text{Var}(XY)$\n",
    "# Part 5\n",
    "Find $\\text{Cov}(X + Y)$"
   ]
  },
  {
   "cell_type": "code",
   "execution_count": null,
   "id": "bd2952a9-be86-43ab-97ce-e4b5e2e88a7a",
   "metadata": {},
   "outputs": [],
   "source": []
  },
  {
   "cell_type": "markdown",
   "id": "32521fdf-6237-4de1-97c3-ff21922aa040",
   "metadata": {},
   "source": [
    "# Problem  7\n",
    "Let $X,Y,Z$ be random vraibles defined on the same sample space having finite variance. Let $a,b,c$ be real numbers. Then prove the following \n",
    "- $\\text{Var}(a + bX)= b^2\\text{Var}(X)$\n",
    "- $\\text{Cov}(X,X) = \\text{Var}(X)$\n",
    "- $\\text{Cov}(X,Y) = \\text{Cov}(Y,X)$\n",
    "- $\\text{Cov}(cX,Y) = c\\text{Cov}(X,Y)$\n",
    "- $\\text{Cov}(X,Y+Z) = \\text{Cov}(X,Z) + \\text{Cov}(X,Y)$"
   ]
  },
  {
   "cell_type": "code",
   "execution_count": null,
   "id": "4083a974-0df5-4fdf-bc1c-72ccc7445917",
   "metadata": {},
   "outputs": [],
   "source": []
  },
  {
   "cell_type": "markdown",
   "id": "5ccc6fae-c25c-47b2-9f47-c38bb0f8c8dc",
   "metadata": {},
   "source": [
    "# Problem 8\n",
    "Selected problems from https://web.northeastern.edu/suciu/mth1187/w01/1187w01.prex3.pdf\n",
    "\n",
    "Recall that Chebyshev's inequlity has \n",
    "$$Pr\\Big(|X-E(X)| \\geq t\\Big) \\leq \\frac{\\text{Var}(X)}{t^2}$$\n",
    "\n",
    "## Part 1\n",
    "The voltage in a certain circuit is a random variable with mean 120 and standard deviation 5.\n",
    "Sensitive equipment will be damaged if the voltage is not between 112 and 128.Use Chebyshev’s\n",
    "inequality to bound the probability of damage.\n",
    "\n",
    "\n",
    "## Part 2\n",
    "A random number generator is used to generate 360 random numbers from the interval $[0, 1]$.\n",
    "Use Chebyshev’s inequality to find a lower bound for the probability that the sum of the numbers\n",
    "lies between 170 and 190\n",
    "\n",
    "## Part 3\n",
    "A binary transmissiom channel introduces errors with probability 0.1. Use Chebyshev’s inequality\n",
    "to estimate the probability that there are between 4 and 16 errors in 100 bit transmissions.\n",
    "\n",
    "# Part 4\n",
    "Flip a fair coin 3000 times.What does Chebyshev say about the probability that your fraction\n",
    "of heads will be between 0.46 and 0.54? How about the Central Limit Theorem?\n",
    "\n",
    "# Part 5\n",
    "About 2% of a certain type of RAM chips are defective. A student needs 50 chips for a certain\n",
    "board.How many should she buy in order for there to be a 99% chance or greater of having at\n",
    "least 49 working chips?\n"
   ]
  },
  {
   "cell_type": "code",
   "execution_count": null,
   "id": "322e0c5b-eefc-4a38-9fc3-412a0f9717f5",
   "metadata": {},
   "outputs": [],
   "source": []
  },
  {
   "cell_type": "markdown",
   "id": "d0de3c79-b074-4837-b41c-3b2780abf192",
   "metadata": {},
   "source": [
    "# Problem  9 (7.72, pg 363 Weiss Book)\n",
    "For Each $n\\in\\mathbb{N}$, let $X_n$ be a random variable that equals 0 with probability $1-\\frac{1}{n^2}$ and equals $\\pm n$ with probability $\\frac{1}{2n^2}$ each.\n",
    "\n",
    "## Part 1\n",
    "Apply Chebyshev's inequality  to obtain an upper bound for the probabiltiy that $X_n$ is at least 3 in magnitude \n",
    "\n",
    "## Part 2\n",
    "For $n\\geq 3$,  determine the eaxact probability that $X_n$ is at least 3 in magintude \n",
    "\n",
    "## Part 3\n",
    "Compare the results from 1, and 2. What happens as $n\\to\\infty$?"
   ]
  },
  {
   "cell_type": "code",
   "execution_count": null,
   "id": "b2ca2451-5f87-4ddd-9d7a-20bc883aa1b7",
   "metadata": {},
   "outputs": [],
   "source": []
  },
  {
   "cell_type": "markdown",
   "id": "9fd2cac2-b630-4009-8bca-d5161bf04064",
   "metadata": {},
   "source": [
    "# Problem  10 (DO NOT SKIP)\n",
    "Suppose we roll a fair 10 sided die and note the value as $N$. From there we perform $N$ Bernoulli experiments with parameter $p$.  In particular, let $$Z = \\sum_N X_i$$  for $N\\sim U(\\mathbb{N}_{10})$ and $X_i\\sim_{\\text{i.i.d.}}$Bernoulli($p$) \n",
    "\n",
    "## Part 1\n",
    "Find \n",
    "- $E[Z]$ analytically. Hint, use the law of total Expectation. \n",
    "## Part 2\n",
    "\n",
    "Simmulate the expeirment above, and calculate the emperical mean by averaging over the result of 10,000 trials with $p=.75$"
   ]
  },
  {
   "cell_type": "markdown",
   "id": "f5d43db4-ed1f-4fe5-8f9b-2254293cfdbb",
   "metadata": {},
   "source": [
    "# Problem  11\n",
    "Let $X$ be a continuous random variable, and let $K$ be a countable set. Prove that $Pr(X\\in K)=0$.  Use this to explain why $X$ can't also be a discrete random variable. "
   ]
  },
  {
   "cell_type": "markdown",
   "id": "3360230a-4819-44fb-a541-b8415d328dc4",
   "metadata": {},
   "source": [
    "# Problem  12\n",
    "## Part 1\n",
    "Suppose a fair coin is tossed threw times. Let $X$ denote the total number of heads in the three tosses. Determine the CDF of $X$\n",
    "\n",
    "# Part 2\n",
    "## Determine for each function $F$ is the CDF of a random variable by verifying it satifies the properties of a CDF. \n",
    "- a)  $$ F(x) =  \\begin{cases} 0 & \\text{ if }  x < 0 \\\\ 1 & \\text{ if} x \\geq 1 \\end{cases}$$\n",
    "- b) $$ F(x) =  \\begin{cases} 0 & \\text{ if }  x < 0 \\\\ 1-p  & \\text{ if } x \\in [0,1) \\\\ 1 & \\text{ if } x \\geq 1 \\end{cases}$$ for $p \\in (0,1)$\n",
    "- c) $$ F(x) =  \\begin{cases} 0 & \\text{ if }  x < 0 \\\\ |x| & \\text{ if} x \\geq 1 \\end{cases}$$\n"
   ]
  },
  {
   "cell_type": "code",
   "execution_count": null,
   "id": "29ebe905-0653-4a2c-9b8d-4332b09b1bf2",
   "metadata": {},
   "outputs": [],
   "source": []
  },
  {
   "cell_type": "markdown",
   "id": "0b285594-15e3-4609-b631-a8996bbf5c0c",
   "metadata": {},
   "source": [
    "# Problem  13\n",
    "## Part 1\n",
    "Let $X$ be a continuous random variable with PDF $$f_X(x) = \\begin{cases} c(x^2 + 2x + 1) & \\text{ for } x\\in[5,10] \\\\ 0 & \\text{ otherwise}\\end{cases}$$\n",
    "for $c\\in\\mathbb{R}$.  Find what value of $c$ makes this a valid PDF \n",
    "\n",
    "## Part 2\n",
    "Let $X$ be a continuous random variable with PDF $$f_X(x) = \\begin{cases} c(x^2 + 2x + 1) & \\text{ for } x\\in[-3,0) \\\\ cx & \\text{ for } x\\in[0,1] \\\\ 0 & \\text{ otherwise}\\end{cases}$$\n",
    "for $c\\in\\mathbb{R}$.  Find what value of $c$ makes this a valid PDF "
   ]
  },
  {
   "cell_type": "code",
   "execution_count": null,
   "id": "852f1e7f-3aab-4166-ac9b-27e4570ca96a",
   "metadata": {},
   "outputs": [],
   "source": []
  },
  {
   "cell_type": "markdown",
   "id": "1be7b5b7-76bb-4ad9-ad4e-7a4e25b3ee3c",
   "metadata": {},
   "source": [
    "# Problem  14\n",
    "Let $X$ be an Exponential random variable with parameter $\\lambda$. Recall that $X$ has PDF\n",
    "$$f_X(x) = \\lambda e^{-\\lambda x}$$ with  $\\lambda >0$ and $x\\in \\mathbb{R}$\n",
    "\n",
    "## Part 1\n",
    "Verify this is a valid PDF. \n",
    "\n",
    "## Part 2\n",
    "Find $E(X)$\n",
    "\n",
    "## Part 3\n",
    "Suppose a Hospital keeps records of its emergency room traffic visists. Those records indicate that begining at 6pm  on any givne day, the alapsed time until the first patient arrives has an exponential distribution with parameter $\\lambda=6.9$, where time is measured in hours. For the following, determine the probability that the first patient arrives \n",
    "- between 6:15pm and 6:30pm. \n",
    "- Before 7pm \n",
    "\n",
    "## Part 4\n",
    "Recall that for an exponential random variable, $$Pr(X>x) = e^{-\\lambda x} = \\int_{0}^{x}\\lambda e^{-\\lambda t}dt $$\n",
    "Use this to prove the lack of memory property for an exponetional random variable. That is, \n",
    "$$Pr(X > s + t | X > s) = P(X>t)$$ for $x,t > \\geq$\n",
    "\n",
    "## Part 5\n",
    "Refer to part 3. Given that the first patient doesn't arive by 6:15PM, determine the probability that the next patient arrives by 6:45.  "
   ]
  },
  {
   "cell_type": "code",
   "execution_count": null,
   "id": "4302b2e2-e6ec-4e04-b57a-1b6b9fe63270",
   "metadata": {},
   "outputs": [],
   "source": []
  },
  {
   "cell_type": "markdown",
   "id": "136a829e-f27a-4bd0-b71c-2c80e9628be1",
   "metadata": {},
   "source": [
    "# Problem  15\n",
    "Let $X\\sim \\mathcal{N}(\\mu, \\sigma^2)$.  be an arbitrary normal random variable. \n",
    "## Part 1\n",
    "Use the Z table to find the probability that $X > \\mu$\n",
    "\n",
    "## Part 2\n",
    "In terms of $a,b,\\sigma,\\mu$, determine $$Pr(a < X < b)$$\n",
    "\n",
    "## Part 3\n",
    "Let $X\\sim \\mathcal{N}(\\mu_X, \\sigma_X^2)$ and $Y\\sim \\mathcal{N}(\\mu_Y, \\sigma_Y^2)$ be independent normal random variables on the same sample space. Let Let $Z = X + Y$. In terms of $a,b,\\sigma_X,\\mu_X,\\sigma_Y,\\mu_Y$ determine $$Pr(a < Z < b)$$"
   ]
  },
  {
   "cell_type": "code",
   "execution_count": null,
   "id": "02389b27-85ac-4eed-aef5-48eb86896943",
   "metadata": {},
   "outputs": [],
   "source": []
  },
  {
   "cell_type": "markdown",
   "id": "199e9240-35c5-48fc-b532-ec0a6d49d6cc",
   "metadata": {},
   "source": [
    "# Problem 16  Hypothesis Testing \n",
    "( modified Snyder Final )\n",
    "\n",
    "Suppose I wish to test if a coin is fair, and decide to do a hypothesis test. (This will be a\n",
    "two-sided test.)\n",
    "\n",
    "## Part 1\n",
    "(Use the Binomial distribution) \n",
    "(A) What is the Null Hypothesis H0 for the test?\n",
    "(B) I decide that my Level of Significance is 5%, and I flip it 5 times and observe that I\n",
    "get 5 tails. Should I Reject my hypothesis? Explain and show all work.\n",
    "(C) Now I decide to set my Level of Significance at 1%. Supposing I flip the coin N\n",
    "times and get N heads, what is the smallest N which would cause me to Reject my\n",
    "hypothesis?\n",
    "\n",
    "## Part 2\n",
    "Recall that the Expected value of a Bernoulli random Variable is $p$. One way of testing whether or not a coin is fair is to check whether its expected value is $\\frac{1}{2}$. Repeat part one, but instead, set up your null hypothesis as $H_0:E[X]=\\frac{1}{2}$ and use the normal distribution "
   ]
  },
  {
   "cell_type": "code",
   "execution_count": null,
   "id": "e5402d7b-0862-4735-b2ce-66a1825135d6",
   "metadata": {},
   "outputs": [],
   "source": []
  },
  {
   "cell_type": "markdown",
   "id": "e9abc116-1a93-4e8a-8cf8-d4ad20a781b5",
   "metadata": {},
   "source": [
    "# Problem  17\n",
    "For this problem, you must calculate the normal CDF by using the standard normal distrubition and a Z-Table. You may not use any other Python functions. You must show all work or explain\n",
    "and not just write a number.\n",
    "\n",
    "\n",
    "Suppose the height of CS majors at BU is a normal random variable with mean 66 inches\n",
    "with a standard deviation of 2 inches.\n",
    "## Part 1\n",
    "What is the probability that a randomly-selected CS major has a height which is at\n",
    "between 1 and 2 standard deviations above the mean (i.e., more than 1 and less than 2)?\n",
    "## Part 2\n",
    "Suppose we take a sample of 100 students and find that the mean of our sample is\n",
    "66.75 inches. Supposing we set our confidence level at 99.73 \\% (3 standard deviations),\n",
    "report the result of this experiment as a confidence interval.\n",
    "## Part 3\n",
    "Suppose we take a sample of 25 students. What is the probability that the mean of\n",
    "this sample is greater than 67 inches?"
   ]
  },
  {
   "cell_type": "code",
   "execution_count": null,
   "id": "7da2539c-839d-4bef-8f73-f0f20792ae80",
   "metadata": {},
   "outputs": [],
   "source": []
  }
 ],
 "metadata": {
  "kernelspec": {
   "display_name": "Python 3",
   "language": "python",
   "name": "python3"
  },
  "language_info": {
   "codemirror_mode": {
    "name": "ipython",
    "version": 3
   },
   "file_extension": ".py",
   "mimetype": "text/x-python",
   "name": "python",
   "nbconvert_exporter": "python",
   "pygments_lexer": "ipython3",
   "version": "3.8.8"
  }
 },
 "nbformat": 4,
 "nbformat_minor": 5
}
